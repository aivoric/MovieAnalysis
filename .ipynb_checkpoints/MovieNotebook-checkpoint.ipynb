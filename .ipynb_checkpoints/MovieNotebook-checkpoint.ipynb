{
 "cells": [
  {
   "cell_type": "markdown",
   "id": "c8cf0059-2244-46c8-bbf2-52226b58b6a5",
   "metadata": {},
   "source": [
    "# Questions to answer\n",
    "* Q1: What are the most popular movie genres?\n",
    "* Q2: Which actors have played in the most amount of movies?\n",
    "* Q3: Can we predict a movie rating?"
   ]
  },
  {
   "cell_type": "markdown",
   "id": "0694ada5-c9db-4134-90ca-a45c1b5e73b1",
   "metadata": {},
   "source": [
    "# Q1: What are the most popular and the least popular movie genres?"
   ]
  },
  {
   "cell_type": "code",
   "execution_count": 222,
   "id": "3292d550-436f-430f-9561-2700f75c4edc",
   "metadata": {},
   "outputs": [],
   "source": [
    "import pandas as pd\n",
    "import numpy as np\n",
    "import matplotlib.pyplot as plt\n",
    "import seaborn as sns\n",
    "from collections import defaultdict"
   ]
  },
  {
   "cell_type": "code",
   "execution_count": 223,
   "id": "9c0f6ba7-8884-4e47-a779-a7537a86a527",
   "metadata": {},
   "outputs": [],
   "source": [
    "dft = pd.read_csv('./titles.csv')\n",
    "dfc = pd.read_csv('./credits.csv')"
   ]
  },
  {
   "cell_type": "markdown",
   "id": "7d964ecc-8951-419c-a0aa-1784c1566876",
   "metadata": {},
   "source": [
    "### Review the data we are working with"
   ]
  },
  {
   "cell_type": "code",
   "execution_count": 3,
   "id": "016cb9c1-975b-4ca9-829a-8846f752923e",
   "metadata": {},
   "outputs": [
    {
     "data": {
      "text/html": [
       "<div>\n",
       "<style scoped>\n",
       "    .dataframe tbody tr th:only-of-type {\n",
       "        vertical-align: middle;\n",
       "    }\n",
       "\n",
       "    .dataframe tbody tr th {\n",
       "        vertical-align: top;\n",
       "    }\n",
       "\n",
       "    .dataframe thead th {\n",
       "        text-align: right;\n",
       "    }\n",
       "</style>\n",
       "<table border=\"1\" class=\"dataframe\">\n",
       "  <thead>\n",
       "    <tr style=\"text-align: right;\">\n",
       "      <th></th>\n",
       "      <th>id</th>\n",
       "      <th>title</th>\n",
       "      <th>type</th>\n",
       "      <th>description</th>\n",
       "      <th>release_year</th>\n",
       "      <th>age_certification</th>\n",
       "      <th>runtime</th>\n",
       "      <th>genres</th>\n",
       "      <th>production_countries</th>\n",
       "      <th>seasons</th>\n",
       "      <th>imdb_id</th>\n",
       "      <th>imdb_score</th>\n",
       "      <th>imdb_votes</th>\n",
       "      <th>tmdb_popularity</th>\n",
       "      <th>tmdb_score</th>\n",
       "    </tr>\n",
       "  </thead>\n",
       "  <tbody>\n",
       "    <tr>\n",
       "      <th>0</th>\n",
       "      <td>ts300399</td>\n",
       "      <td>Five Came Back: The Reference Films</td>\n",
       "      <td>SHOW</td>\n",
       "      <td>This collection includes 12 World War II-era p...</td>\n",
       "      <td>1945</td>\n",
       "      <td>TV-MA</td>\n",
       "      <td>48</td>\n",
       "      <td>['documentation']</td>\n",
       "      <td>['US']</td>\n",
       "      <td>1.0</td>\n",
       "      <td>NaN</td>\n",
       "      <td>NaN</td>\n",
       "      <td>NaN</td>\n",
       "      <td>0.600</td>\n",
       "      <td>NaN</td>\n",
       "    </tr>\n",
       "    <tr>\n",
       "      <th>1</th>\n",
       "      <td>tm84618</td>\n",
       "      <td>Taxi Driver</td>\n",
       "      <td>MOVIE</td>\n",
       "      <td>A mentally unstable Vietnam War veteran works ...</td>\n",
       "      <td>1976</td>\n",
       "      <td>R</td>\n",
       "      <td>113</td>\n",
       "      <td>['crime', 'drama']</td>\n",
       "      <td>['US']</td>\n",
       "      <td>NaN</td>\n",
       "      <td>tt0075314</td>\n",
       "      <td>8.3</td>\n",
       "      <td>795222.0</td>\n",
       "      <td>27.612</td>\n",
       "      <td>8.2</td>\n",
       "    </tr>\n",
       "    <tr>\n",
       "      <th>2</th>\n",
       "      <td>tm127384</td>\n",
       "      <td>Monty Python and the Holy Grail</td>\n",
       "      <td>MOVIE</td>\n",
       "      <td>King Arthur, accompanied by his squire, recrui...</td>\n",
       "      <td>1975</td>\n",
       "      <td>PG</td>\n",
       "      <td>91</td>\n",
       "      <td>['comedy', 'fantasy']</td>\n",
       "      <td>['GB']</td>\n",
       "      <td>NaN</td>\n",
       "      <td>tt0071853</td>\n",
       "      <td>8.2</td>\n",
       "      <td>530877.0</td>\n",
       "      <td>18.216</td>\n",
       "      <td>7.8</td>\n",
       "    </tr>\n",
       "    <tr>\n",
       "      <th>3</th>\n",
       "      <td>tm70993</td>\n",
       "      <td>Life of Brian</td>\n",
       "      <td>MOVIE</td>\n",
       "      <td>Brian Cohen is an average young Jewish man, bu...</td>\n",
       "      <td>1979</td>\n",
       "      <td>R</td>\n",
       "      <td>94</td>\n",
       "      <td>['comedy']</td>\n",
       "      <td>['GB']</td>\n",
       "      <td>NaN</td>\n",
       "      <td>tt0079470</td>\n",
       "      <td>8.0</td>\n",
       "      <td>392419.0</td>\n",
       "      <td>17.505</td>\n",
       "      <td>7.8</td>\n",
       "    </tr>\n",
       "    <tr>\n",
       "      <th>4</th>\n",
       "      <td>tm190788</td>\n",
       "      <td>The Exorcist</td>\n",
       "      <td>MOVIE</td>\n",
       "      <td>12-year-old Regan MacNeil begins to adapt an e...</td>\n",
       "      <td>1973</td>\n",
       "      <td>R</td>\n",
       "      <td>133</td>\n",
       "      <td>['horror']</td>\n",
       "      <td>['US']</td>\n",
       "      <td>NaN</td>\n",
       "      <td>tt0070047</td>\n",
       "      <td>8.1</td>\n",
       "      <td>391942.0</td>\n",
       "      <td>95.337</td>\n",
       "      <td>7.7</td>\n",
       "    </tr>\n",
       "  </tbody>\n",
       "</table>\n",
       "</div>"
      ],
      "text/plain": [
       "         id                                title   type  \\\n",
       "0  ts300399  Five Came Back: The Reference Films   SHOW   \n",
       "1   tm84618                          Taxi Driver  MOVIE   \n",
       "2  tm127384      Monty Python and the Holy Grail  MOVIE   \n",
       "3   tm70993                        Life of Brian  MOVIE   \n",
       "4  tm190788                         The Exorcist  MOVIE   \n",
       "\n",
       "                                         description  release_year  \\\n",
       "0  This collection includes 12 World War II-era p...          1945   \n",
       "1  A mentally unstable Vietnam War veteran works ...          1976   \n",
       "2  King Arthur, accompanied by his squire, recrui...          1975   \n",
       "3  Brian Cohen is an average young Jewish man, bu...          1979   \n",
       "4  12-year-old Regan MacNeil begins to adapt an e...          1973   \n",
       "\n",
       "  age_certification  runtime                 genres production_countries  \\\n",
       "0             TV-MA       48      ['documentation']               ['US']   \n",
       "1                 R      113     ['crime', 'drama']               ['US']   \n",
       "2                PG       91  ['comedy', 'fantasy']               ['GB']   \n",
       "3                 R       94             ['comedy']               ['GB']   \n",
       "4                 R      133             ['horror']               ['US']   \n",
       "\n",
       "   seasons    imdb_id  imdb_score  imdb_votes  tmdb_popularity  tmdb_score  \n",
       "0      1.0        NaN         NaN         NaN            0.600         NaN  \n",
       "1      NaN  tt0075314         8.3    795222.0           27.612         8.2  \n",
       "2      NaN  tt0071853         8.2    530877.0           18.216         7.8  \n",
       "3      NaN  tt0079470         8.0    392419.0           17.505         7.8  \n",
       "4      NaN  tt0070047         8.1    391942.0           95.337         7.7  "
      ]
     },
     "execution_count": 3,
     "metadata": {},
     "output_type": "execute_result"
    }
   ],
   "source": [
    "dft.head()"
   ]
  },
  {
   "cell_type": "code",
   "execution_count": 4,
   "id": "8b2fae64-6cf8-4adf-b8e4-2fb806e7385f",
   "metadata": {},
   "outputs": [
    {
     "data": {
      "text/html": [
       "<div>\n",
       "<style scoped>\n",
       "    .dataframe tbody tr th:only-of-type {\n",
       "        vertical-align: middle;\n",
       "    }\n",
       "\n",
       "    .dataframe tbody tr th {\n",
       "        vertical-align: top;\n",
       "    }\n",
       "\n",
       "    .dataframe thead th {\n",
       "        text-align: right;\n",
       "    }\n",
       "</style>\n",
       "<table border=\"1\" class=\"dataframe\">\n",
       "  <thead>\n",
       "    <tr style=\"text-align: right;\">\n",
       "      <th></th>\n",
       "      <th>person_id</th>\n",
       "      <th>id</th>\n",
       "      <th>name</th>\n",
       "      <th>character</th>\n",
       "      <th>role</th>\n",
       "    </tr>\n",
       "  </thead>\n",
       "  <tbody>\n",
       "    <tr>\n",
       "      <th>0</th>\n",
       "      <td>3748</td>\n",
       "      <td>tm84618</td>\n",
       "      <td>Robert De Niro</td>\n",
       "      <td>Travis Bickle</td>\n",
       "      <td>ACTOR</td>\n",
       "    </tr>\n",
       "    <tr>\n",
       "      <th>1</th>\n",
       "      <td>14658</td>\n",
       "      <td>tm84618</td>\n",
       "      <td>Jodie Foster</td>\n",
       "      <td>Iris Steensma</td>\n",
       "      <td>ACTOR</td>\n",
       "    </tr>\n",
       "    <tr>\n",
       "      <th>2</th>\n",
       "      <td>7064</td>\n",
       "      <td>tm84618</td>\n",
       "      <td>Albert Brooks</td>\n",
       "      <td>Tom</td>\n",
       "      <td>ACTOR</td>\n",
       "    </tr>\n",
       "    <tr>\n",
       "      <th>3</th>\n",
       "      <td>3739</td>\n",
       "      <td>tm84618</td>\n",
       "      <td>Harvey Keitel</td>\n",
       "      <td>Matthew 'Sport' Higgins</td>\n",
       "      <td>ACTOR</td>\n",
       "    </tr>\n",
       "    <tr>\n",
       "      <th>4</th>\n",
       "      <td>48933</td>\n",
       "      <td>tm84618</td>\n",
       "      <td>Cybill Shepherd</td>\n",
       "      <td>Betsy</td>\n",
       "      <td>ACTOR</td>\n",
       "    </tr>\n",
       "  </tbody>\n",
       "</table>\n",
       "</div>"
      ],
      "text/plain": [
       "   person_id       id             name                character   role\n",
       "0       3748  tm84618   Robert De Niro            Travis Bickle  ACTOR\n",
       "1      14658  tm84618     Jodie Foster            Iris Steensma  ACTOR\n",
       "2       7064  tm84618    Albert Brooks                      Tom  ACTOR\n",
       "3       3739  tm84618    Harvey Keitel  Matthew 'Sport' Higgins  ACTOR\n",
       "4      48933  tm84618  Cybill Shepherd                    Betsy  ACTOR"
      ]
     },
     "execution_count": 4,
     "metadata": {},
     "output_type": "execute_result"
    }
   ],
   "source": [
    "dfc.head()"
   ]
  },
  {
   "cell_type": "code",
   "execution_count": 5,
   "id": "2210b2ad-fc2a-49bc-8031-0900253b7aa5",
   "metadata": {
    "tags": []
   },
   "outputs": [
    {
     "data": {
      "text/plain": [
       "['comedy']                                            510\n",
       "['drama']                                             350\n",
       "['documentation']                                     320\n",
       "['comedy', 'drama']                                   141\n",
       "['drama', 'comedy']                                   128\n",
       "                                                     ... \n",
       "['drama', 'family', 'comedy', 'music']                  1\n",
       "['drama', 'thriller', 'western']                        1\n",
       "['comedy', 'thriller', 'drama', 'action', 'crime']      1\n",
       "['romance', 'drama', 'history', 'european']             1\n",
       "['family', 'comedy', 'animation']                       1\n",
       "Name: genres, Length: 1626, dtype: int64"
      ]
     },
     "execution_count": 5,
     "metadata": {},
     "output_type": "execute_result"
    }
   ],
   "source": [
    "dft.genres.value_counts()"
   ]
  },
  {
   "cell_type": "markdown",
   "id": "bf4040ac-aa98-4ec7-b5b9-533e4d0de6a7",
   "metadata": {},
   "source": [
    "### Create a list of all the genres in the data"
   ]
  },
  {
   "cell_type": "code",
   "execution_count": 45,
   "id": "ef531557-063d-4818-86ba-dad8873293d5",
   "metadata": {},
   "outputs": [],
   "source": [
    "global global_genre_set\n",
    "global_genre_set = set()\n",
    "\n",
    "def extract_genre_list(col):\n",
    "    genre_list = col.replace(\"[\",\"\").replace(\"]\",\"\").replace(\"'\",\"\").split(\",\")\n",
    "    for genre in genre_list:\n",
    "        if genre != '': global_genre_set.add(genre.strip())"
   ]
  },
  {
   "cell_type": "code",
   "execution_count": 46,
   "id": "b7f59dd7-2dd1-4f2a-b73f-b5fd5bc94485",
   "metadata": {
    "tags": []
   },
   "outputs": [
    {
     "name": "stdout",
     "output_type": "stream",
     "text": [
      "{'drama', 'action', 'scifi', 'sport', 'reality', 'european', 'thriller', 'western', 'documentation', 'fantasy', 'war', 'romance', 'comedy', 'family', 'horror', 'music', 'animation', 'history', 'crime'}\n"
     ]
    }
   ],
   "source": [
    "dft.genres.apply(extract_genre_list)\n",
    "print(global_genre_set)"
   ]
  },
  {
   "cell_type": "markdown",
   "id": "23fbbd67-c043-4660-b78b-dfa71ce1559b",
   "metadata": {},
   "source": [
    "### Create a helper function for counting values"
   ]
  },
  {
   "cell_type": "code",
   "execution_count": 56,
   "id": "67b105da-22ac-46a2-9ded-8de5832d88ce",
   "metadata": {},
   "outputs": [],
   "source": [
    "def total_count(df, col1, col2, look_for):\n",
    "    '''\n",
    "    INPUT:\n",
    "    df - the pandas dataframe you want to search\n",
    "    col1 - the column name you want to look through\n",
    "    col2 - the column you want to average values from\n",
    "    look_for - a list of strings you want to search for in each row of df[col]\n",
    "\n",
    "    OUTPUT:\n",
    "    new_df - a dataframe of each look_for with the count of how often it shows up\n",
    "    '''\n",
    "    new_df = defaultdict(int)\n",
    "    #loop through list of ed types\n",
    "    for val in look_for:\n",
    "        #loop through rows\n",
    "        for idx in range(df.shape[0]):\n",
    "            #if the ed type is in the row add 1\n",
    "            if val in df[col1][idx]:\n",
    "                new_df[val] += int(df[col2][idx])\n",
    "    new_df = pd.DataFrame(pd.Series(new_df)).reset_index()\n",
    "    new_df.columns = [col1, col2]\n",
    "    new_df.sort_values('count', ascending=False, inplace=True)\n",
    "    return new_df"
   ]
  },
  {
   "cell_type": "markdown",
   "id": "80b3261d-e68d-4295-add7-3e34bebba42e",
   "metadata": {},
   "source": [
    "### Create a helper function for plotting value counts"
   ]
  },
  {
   "cell_type": "code",
   "execution_count": 58,
   "id": "e33d0092-21bd-4211-bfac-44a3604e38a6",
   "metadata": {},
   "outputs": [],
   "source": [
    "def clean_and_plot(df, title='Popular movie genres', plot=True):\n",
    "    '''\n",
    "    INPUT \n",
    "        df - a dataframe holding the genres column\n",
    "        title - string the title of your plot\n",
    "        axis - axis object\n",
    "        plot - bool providing whether or not you want a plot back\n",
    "        \n",
    "    OUTPUT\n",
    "        study_df - a dataframe with the count of movie genres\n",
    "        Displays a plot of pretty things related to the genres column.\n",
    "    '''\n",
    "    genres = df['genres'].value_counts().reset_index()\n",
    "    genres.rename(columns={'index': 'genre', 'genres': 'count'}, inplace=True)\n",
    "    genres_df = total_count(genres, 'genre', 'count', global_genre_set)\n",
    "\n",
    "    genres_df.set_index('genre', inplace=True)\n",
    "    if plot:\n",
    "        (genres_df/genres_df.sum()).plot(kind='bar', legend=None);\n",
    "        plt.title(title);\n",
    "        plt.show()\n",
    "    props_genres_df = genres_df/genres_df.sum()\n",
    "    return genres_df"
   ]
  },
  {
   "cell_type": "markdown",
   "id": "bfed46fa-c694-4bda-9d36-d75e0488fbf7",
   "metadata": {},
   "source": [
    "### Answer to: \"What are the most popular and the least popular movie genres?\""
   ]
  },
  {
   "cell_type": "markdown",
   "id": "c5212676-b1e5-4823-9c59-99fcd1542393",
   "metadata": {},
   "source": [
    "* Drama, comedy and thriller are the 3 most popular movie genres on Netflix.\n",
    "* Wester, war, sport are the 3 least popular movie genres on Netflix."
   ]
  },
  {
   "cell_type": "code",
   "execution_count": 59,
   "id": "741297ac-700f-4f68-933f-96ed87de94ff",
   "metadata": {},
   "outputs": [
    {
     "data": {
      "image/png": "[encoded data removed]",
      "text/plain": [
       "<Figure size 432x288 with 1 Axes>"
      ]
     },
     "metadata": {
      "needs_background": "light"
     },
     "output_type": "display_data"
    }
   ],
   "source": [
    "props_df = clean_and_plot(dft)"
   ]
  },
  {
   "cell_type": "markdown",
   "id": "720ede82-c40f-4d6c-98c3-9da46ca6f4d6",
   "metadata": {},
   "source": [
    "# Q2: Which actors have played in the most amount of movies and which directors made the most movies?"
   ]
  },
  {
   "cell_type": "code",
   "execution_count": 66,
   "id": "3f636002-b921-4055-ae67-48abb6b74ca0",
   "metadata": {},
   "outputs": [
    {
     "data": {
      "text/html": [
       "<div>\n",
       "<style scoped>\n",
       "    .dataframe tbody tr th:only-of-type {\n",
       "        vertical-align: middle;\n",
       "    }\n",
       "\n",
       "    .dataframe tbody tr th {\n",
       "        vertical-align: top;\n",
       "    }\n",
       "\n",
       "    .dataframe thead th {\n",
       "        text-align: right;\n",
       "    }\n",
       "</style>\n",
       "<table border=\"1\" class=\"dataframe\">\n",
       "  <thead>\n",
       "    <tr style=\"text-align: right;\">\n",
       "      <th></th>\n",
       "      <th>person_id</th>\n",
       "      <th>id</th>\n",
       "      <th>name</th>\n",
       "      <th>character</th>\n",
       "      <th>role</th>\n",
       "    </tr>\n",
       "  </thead>\n",
       "  <tbody>\n",
       "    <tr>\n",
       "      <th>0</th>\n",
       "      <td>3748</td>\n",
       "      <td>tm84618</td>\n",
       "      <td>Robert De Niro</td>\n",
       "      <td>Travis Bickle</td>\n",
       "      <td>ACTOR</td>\n",
       "    </tr>\n",
       "    <tr>\n",
       "      <th>1</th>\n",
       "      <td>14658</td>\n",
       "      <td>tm84618</td>\n",
       "      <td>Jodie Foster</td>\n",
       "      <td>Iris Steensma</td>\n",
       "      <td>ACTOR</td>\n",
       "    </tr>\n",
       "    <tr>\n",
       "      <th>2</th>\n",
       "      <td>7064</td>\n",
       "      <td>tm84618</td>\n",
       "      <td>Albert Brooks</td>\n",
       "      <td>Tom</td>\n",
       "      <td>ACTOR</td>\n",
       "    </tr>\n",
       "    <tr>\n",
       "      <th>3</th>\n",
       "      <td>3739</td>\n",
       "      <td>tm84618</td>\n",
       "      <td>Harvey Keitel</td>\n",
       "      <td>Matthew 'Sport' Higgins</td>\n",
       "      <td>ACTOR</td>\n",
       "    </tr>\n",
       "    <tr>\n",
       "      <th>4</th>\n",
       "      <td>48933</td>\n",
       "      <td>tm84618</td>\n",
       "      <td>Cybill Shepherd</td>\n",
       "      <td>Betsy</td>\n",
       "      <td>ACTOR</td>\n",
       "    </tr>\n",
       "  </tbody>\n",
       "</table>\n",
       "</div>"
      ],
      "text/plain": [
       "   person_id       id             name                character   role\n",
       "0       3748  tm84618   Robert De Niro            Travis Bickle  ACTOR\n",
       "1      14658  tm84618     Jodie Foster            Iris Steensma  ACTOR\n",
       "2       7064  tm84618    Albert Brooks                      Tom  ACTOR\n",
       "3       3739  tm84618    Harvey Keitel  Matthew 'Sport' Higgins  ACTOR\n",
       "4      48933  tm84618  Cybill Shepherd                    Betsy  ACTOR"
      ]
     },
     "execution_count": 66,
     "metadata": {},
     "output_type": "execute_result"
    }
   ],
   "source": [
    "dfc.head()"
   ]
  },
  {
   "cell_type": "code",
   "execution_count": 200,
   "id": "70eb9a04-0f2f-4d02-be0b-8c3482d7793f",
   "metadata": {},
   "outputs": [
    {
     "data": {
      "text/html": [
       "<div>\n",
       "<style scoped>\n",
       "    .dataframe tbody tr th:only-of-type {\n",
       "        vertical-align: middle;\n",
       "    }\n",
       "\n",
       "    .dataframe tbody tr th {\n",
       "        vertical-align: top;\n",
       "    }\n",
       "\n",
       "    .dataframe thead th {\n",
       "        text-align: right;\n",
       "    }\n",
       "</style>\n",
       "<table border=\"1\" class=\"dataframe\">\n",
       "  <thead>\n",
       "    <tr style=\"text-align: right;\">\n",
       "      <th></th>\n",
       "      <th>role</th>\n",
       "      <th>size</th>\n",
       "    </tr>\n",
       "  </thead>\n",
       "  <tbody>\n",
       "    <tr>\n",
       "      <th>0</th>\n",
       "      <td>ACTOR</td>\n",
       "      <td>72690</td>\n",
       "    </tr>\n",
       "    <tr>\n",
       "      <th>1</th>\n",
       "      <td>DIRECTOR</td>\n",
       "      <td>4523</td>\n",
       "    </tr>\n",
       "  </tbody>\n",
       "</table>\n",
       "</div>"
      ],
      "text/plain": [
       "       role   size\n",
       "0     ACTOR  72690\n",
       "1  DIRECTOR   4523"
      ]
     },
     "execution_count": 200,
     "metadata": {},
     "output_type": "execute_result"
    }
   ],
   "source": [
    "dfc.groupby(\"role\", as_index=False).size()"
   ]
  },
  {
   "cell_type": "code",
   "execution_count": 198,
   "id": "5f47138c-ff4a-4e6d-ad39-16021917def1",
   "metadata": {},
   "outputs": [
    {
     "data": {
      "text/html": [
       "<div>\n",
       "<style scoped>\n",
       "    .dataframe tbody tr th:only-of-type {\n",
       "        vertical-align: middle;\n",
       "    }\n",
       "\n",
       "    .dataframe tbody tr th {\n",
       "        vertical-align: top;\n",
       "    }\n",
       "\n",
       "    .dataframe thead th {\n",
       "        text-align: right;\n",
       "    }\n",
       "</style>\n",
       "<table border=\"1\" class=\"dataframe\">\n",
       "  <thead>\n",
       "    <tr style=\"text-align: right;\">\n",
       "      <th></th>\n",
       "      <th>name</th>\n",
       "      <th>num_of_films</th>\n",
       "    </tr>\n",
       "  </thead>\n",
       "  <tbody>\n",
       "    <tr>\n",
       "      <th>42864</th>\n",
       "      <td>Shah Rukh Khan</td>\n",
       "      <td>30</td>\n",
       "    </tr>\n",
       "    <tr>\n",
       "      <th>6220</th>\n",
       "      <td>Boman Irani</td>\n",
       "      <td>25</td>\n",
       "    </tr>\n",
       "    <tr>\n",
       "      <th>24536</th>\n",
       "      <td>Kareena Kapoor Khan</td>\n",
       "      <td>25</td>\n",
       "    </tr>\n",
       "    <tr>\n",
       "      <th>3906</th>\n",
       "      <td>Anupam Kher</td>\n",
       "      <td>25</td>\n",
       "    </tr>\n",
       "    <tr>\n",
       "      <th>45568</th>\n",
       "      <td>Takahiro Sakurai</td>\n",
       "      <td>22</td>\n",
       "    </tr>\n",
       "    <tr>\n",
       "      <th>36577</th>\n",
       "      <td>Paresh Rawal</td>\n",
       "      <td>22</td>\n",
       "    </tr>\n",
       "    <tr>\n",
       "      <th>38214</th>\n",
       "      <td>Priyanka Chopra Jonas</td>\n",
       "      <td>21</td>\n",
       "    </tr>\n",
       "    <tr>\n",
       "      <th>34780</th>\n",
       "      <td>Nawazuddin Siddiqui</td>\n",
       "      <td>21</td>\n",
       "    </tr>\n",
       "    <tr>\n",
       "      <th>2426</th>\n",
       "      <td>Amitabh Bachchan</td>\n",
       "      <td>19</td>\n",
       "    </tr>\n",
       "    <tr>\n",
       "      <th>34534</th>\n",
       "      <td>Naseeruddin Shah</td>\n",
       "      <td>19</td>\n",
       "    </tr>\n",
       "  </tbody>\n",
       "</table>\n",
       "</div>"
      ],
      "text/plain": [
       "                        name  num_of_films\n",
       "42864         Shah Rukh Khan            30\n",
       "6220             Boman Irani            25\n",
       "24536    Kareena Kapoor Khan            25\n",
       "3906             Anupam Kher            25\n",
       "45568       Takahiro Sakurai            22\n",
       "36577           Paresh Rawal            22\n",
       "38214  Priyanka Chopra Jonas            21\n",
       "34780    Nawazuddin Siddiqui            21\n",
       "2426        Amitabh Bachchan            19\n",
       "34534       Naseeruddin Shah            19"
      ]
     },
     "execution_count": 198,
     "metadata": {},
     "output_type": "execute_result"
    }
   ],
   "source": [
    "dfc[dfc.role==\"ACTOR\"] \\\n",
    ".groupby([\"name\"], as_index=False) \\\n",
    ".size() \\\n",
    ".sort_values(by=[\"size\"],ascending=False) \\\n",
    ".rename({\"size\":\"num_of_films\"}, axis=1) \\\n",
    ".head(10)"
   ]
  },
  {
   "cell_type": "code",
   "execution_count": 199,
   "id": "286a7cf7-431c-4cda-8d1a-8e59c2cf791e",
   "metadata": {},
   "outputs": [
    {
     "data": {
      "text/html": [
       "<div>\n",
       "<style scoped>\n",
       "    .dataframe tbody tr th:only-of-type {\n",
       "        vertical-align: middle;\n",
       "    }\n",
       "\n",
       "    .dataframe tbody tr th {\n",
       "        vertical-align: top;\n",
       "    }\n",
       "\n",
       "    .dataframe thead th {\n",
       "        text-align: right;\n",
       "    }\n",
       "</style>\n",
       "<table border=\"1\" class=\"dataframe\">\n",
       "  <thead>\n",
       "    <tr style=\"text-align: right;\">\n",
       "      <th></th>\n",
       "      <th>name</th>\n",
       "      <th>num_of_films</th>\n",
       "    </tr>\n",
       "  </thead>\n",
       "  <tbody>\n",
       "    <tr>\n",
       "      <th>2569</th>\n",
       "      <td>Raúl Campos</td>\n",
       "      <td>21</td>\n",
       "    </tr>\n",
       "    <tr>\n",
       "      <th>1226</th>\n",
       "      <td>Jan Suter</td>\n",
       "      <td>20</td>\n",
       "    </tr>\n",
       "    <tr>\n",
       "      <th>1259</th>\n",
       "      <td>Jay Karas</td>\n",
       "      <td>16</td>\n",
       "    </tr>\n",
       "    <tr>\n",
       "      <th>1940</th>\n",
       "      <td>Marcus Raboy</td>\n",
       "      <td>15</td>\n",
       "    </tr>\n",
       "    <tr>\n",
       "      <th>2729</th>\n",
       "      <td>Ryan Polito</td>\n",
       "      <td>13</td>\n",
       "    </tr>\n",
       "    <tr>\n",
       "      <th>1257</th>\n",
       "      <td>Jay Chapman</td>\n",
       "      <td>12</td>\n",
       "    </tr>\n",
       "    <tr>\n",
       "      <th>467</th>\n",
       "      <td>Cathy Garcia-Molina</td>\n",
       "      <td>12</td>\n",
       "    </tr>\n",
       "    <tr>\n",
       "      <th>3361</th>\n",
       "      <td>Youssef Chahine</td>\n",
       "      <td>11</td>\n",
       "    </tr>\n",
       "    <tr>\n",
       "      <th>1529</th>\n",
       "      <td>Justin G. Dyck</td>\n",
       "      <td>9</td>\n",
       "    </tr>\n",
       "    <tr>\n",
       "      <th>3208</th>\n",
       "      <td>Umesh Mehra</td>\n",
       "      <td>8</td>\n",
       "    </tr>\n",
       "  </tbody>\n",
       "</table>\n",
       "</div>"
      ],
      "text/plain": [
       "                     name  num_of_films\n",
       "2569          Raúl Campos            21\n",
       "1226            Jan Suter            20\n",
       "1259            Jay Karas            16\n",
       "1940         Marcus Raboy            15\n",
       "2729          Ryan Polito            13\n",
       "1257          Jay Chapman            12\n",
       "467   Cathy Garcia-Molina            12\n",
       "3361      Youssef Chahine            11\n",
       "1529       Justin G. Dyck             9\n",
       "3208          Umesh Mehra             8"
      ]
     },
     "execution_count": 199,
     "metadata": {},
     "output_type": "execute_result"
    }
   ],
   "source": [
    "dfc[dfc.role==\"DIRECTOR\"] \\\n",
    ".groupby([\"name\"], as_index=False) \\\n",
    ".size() \\\n",
    ".sort_values(by=[\"size\"],ascending=False) \\\n",
    ".rename({\"size\":\"num_of_films\"}, axis=1) \\\n",
    ".head(10)"
   ]
  },
  {
   "cell_type": "markdown",
   "id": "031edcc3-745c-4ebc-964e-1a56dfd713b3",
   "metadata": {},
   "source": [
    "# Q3: Can we predict a movie rating?"
   ]
  },
  {
   "cell_type": "markdown",
   "id": "3a190c9d-2bba-49ae-908a-8a737f9f51b7",
   "metadata": {},
   "source": [
    "Features to use:\n",
    "* Production country (categorical)\n",
    "* Genre (categorical)\n",
    "* Runtime (numerical)\n",
    "* Release year (numerical)\n",
    "* Age-certification (categorical)\n",
    "* Actors"
   ]
  },
  {
   "cell_type": "code",
   "execution_count": 224,
   "id": "219de8d8-4ee1-40c4-a128-a5c9e5b14029",
   "metadata": {},
   "outputs": [
    {
     "data": {
      "text/html": [
       "<div>\n",
       "<style scoped>\n",
       "    .dataframe tbody tr th:only-of-type {\n",
       "        vertical-align: middle;\n",
       "    }\n",
       "\n",
       "    .dataframe tbody tr th {\n",
       "        vertical-align: top;\n",
       "    }\n",
       "\n",
       "    .dataframe thead th {\n",
       "        text-align: right;\n",
       "    }\n",
       "</style>\n",
       "<table border=\"1\" class=\"dataframe\">\n",
       "  <thead>\n",
       "    <tr style=\"text-align: right;\">\n",
       "      <th></th>\n",
       "      <th>type</th>\n",
       "      <th>size</th>\n",
       "    </tr>\n",
       "  </thead>\n",
       "  <tbody>\n",
       "    <tr>\n",
       "      <th>0</th>\n",
       "      <td>MOVIE</td>\n",
       "      <td>3759</td>\n",
       "    </tr>\n",
       "    <tr>\n",
       "      <th>1</th>\n",
       "      <td>SHOW</td>\n",
       "      <td>2047</td>\n",
       "    </tr>\n",
       "  </tbody>\n",
       "</table>\n",
       "</div>"
      ],
      "text/plain": [
       "    type  size\n",
       "0  MOVIE  3759\n",
       "1   SHOW  2047"
      ]
     },
     "execution_count": 224,
     "metadata": {},
     "output_type": "execute_result"
    }
   ],
   "source": [
    "dft.groupby(\"type\", as_index=False).size()"
   ]
  },
  {
   "cell_type": "code",
   "execution_count": 225,
   "id": "374f3ff9-f173-4db5-bfb0-a8d649bd621e",
   "metadata": {},
   "outputs": [
    {
     "data": {
      "text/html": [
       "<div>\n",
       "<style scoped>\n",
       "    .dataframe tbody tr th:only-of-type {\n",
       "        vertical-align: middle;\n",
       "    }\n",
       "\n",
       "    .dataframe tbody tr th {\n",
       "        vertical-align: top;\n",
       "    }\n",
       "\n",
       "    .dataframe thead th {\n",
       "        text-align: right;\n",
       "    }\n",
       "</style>\n",
       "<table border=\"1\" class=\"dataframe\">\n",
       "  <thead>\n",
       "    <tr style=\"text-align: right;\">\n",
       "      <th></th>\n",
       "      <th>person_id</th>\n",
       "      <th>id</th>\n",
       "      <th>name</th>\n",
       "      <th>character</th>\n",
       "      <th>role</th>\n",
       "    </tr>\n",
       "  </thead>\n",
       "  <tbody>\n",
       "    <tr>\n",
       "      <th>0</th>\n",
       "      <td>3748</td>\n",
       "      <td>tm84618</td>\n",
       "      <td>Robert De Niro</td>\n",
       "      <td>Travis Bickle</td>\n",
       "      <td>ACTOR</td>\n",
       "    </tr>\n",
       "    <tr>\n",
       "      <th>1</th>\n",
       "      <td>14658</td>\n",
       "      <td>tm84618</td>\n",
       "      <td>Jodie Foster</td>\n",
       "      <td>Iris Steensma</td>\n",
       "      <td>ACTOR</td>\n",
       "    </tr>\n",
       "    <tr>\n",
       "      <th>2</th>\n",
       "      <td>7064</td>\n",
       "      <td>tm84618</td>\n",
       "      <td>Albert Brooks</td>\n",
       "      <td>Tom</td>\n",
       "      <td>ACTOR</td>\n",
       "    </tr>\n",
       "    <tr>\n",
       "      <th>3</th>\n",
       "      <td>3739</td>\n",
       "      <td>tm84618</td>\n",
       "      <td>Harvey Keitel</td>\n",
       "      <td>Matthew 'Sport' Higgins</td>\n",
       "      <td>ACTOR</td>\n",
       "    </tr>\n",
       "    <tr>\n",
       "      <th>4</th>\n",
       "      <td>48933</td>\n",
       "      <td>tm84618</td>\n",
       "      <td>Cybill Shepherd</td>\n",
       "      <td>Betsy</td>\n",
       "      <td>ACTOR</td>\n",
       "    </tr>\n",
       "  </tbody>\n",
       "</table>\n",
       "</div>"
      ],
      "text/plain": [
       "   person_id       id             name                character   role\n",
       "0       3748  tm84618   Robert De Niro            Travis Bickle  ACTOR\n",
       "1      14658  tm84618     Jodie Foster            Iris Steensma  ACTOR\n",
       "2       7064  tm84618    Albert Brooks                      Tom  ACTOR\n",
       "3       3739  tm84618    Harvey Keitel  Matthew 'Sport' Higgins  ACTOR\n",
       "4      48933  tm84618  Cybill Shepherd                    Betsy  ACTOR"
      ]
     },
     "execution_count": 225,
     "metadata": {},
     "output_type": "execute_result"
    }
   ],
   "source": [
    "dfc.head()"
   ]
  },
  {
   "cell_type": "markdown",
   "id": "304df866-11c0-4693-9e04-6e8bbd8265aa",
   "metadata": {},
   "source": [
    "### Filter out by movies only"
   ]
  },
  {
   "cell_type": "code",
   "execution_count": 226,
   "id": "b8149bdf-a910-45c4-917c-e44bb5546320",
   "metadata": {},
   "outputs": [],
   "source": [
    "dft = dft[dft.type == \"MOVIE\"]"
   ]
  },
  {
   "cell_type": "code",
   "execution_count": 227,
   "id": "17be3bf3-c0d5-492b-ae21-cb6117a348be",
   "metadata": {},
   "outputs": [
    {
     "data": {
      "text/plain": [
       "56385"
      ]
     },
     "execution_count": 227,
     "metadata": {},
     "output_type": "execute_result"
    }
   ],
   "source": [
    "dft.size"
   ]
  },
  {
   "cell_type": "code",
   "execution_count": 228,
   "id": "f290f8a9-e0eb-4933-b0fc-2c871c839651",
   "metadata": {},
   "outputs": [],
   "source": [
    "dff = pd.merge(dfc,dft,on='id',how='left')"
   ]
  },
  {
   "cell_type": "code",
   "execution_count": 229,
   "id": "19407fdb-39c3-41f9-9bc0-f40f680fef59",
   "metadata": {},
   "outputs": [
    {
     "data": {
      "text/html": [
       "<div>\n",
       "<style scoped>\n",
       "    .dataframe tbody tr th:only-of-type {\n",
       "        vertical-align: middle;\n",
       "    }\n",
       "\n",
       "    .dataframe tbody tr th {\n",
       "        vertical-align: top;\n",
       "    }\n",
       "\n",
       "    .dataframe thead th {\n",
       "        text-align: right;\n",
       "    }\n",
       "</style>\n",
       "<table border=\"1\" class=\"dataframe\">\n",
       "  <thead>\n",
       "    <tr style=\"text-align: right;\">\n",
       "      <th></th>\n",
       "      <th>person_id</th>\n",
       "      <th>id</th>\n",
       "      <th>name</th>\n",
       "      <th>character</th>\n",
       "      <th>role</th>\n",
       "      <th>title</th>\n",
       "      <th>type</th>\n",
       "      <th>description</th>\n",
       "      <th>release_year</th>\n",
       "      <th>age_certification</th>\n",
       "      <th>runtime</th>\n",
       "      <th>genres</th>\n",
       "      <th>production_countries</th>\n",
       "      <th>seasons</th>\n",
       "      <th>imdb_id</th>\n",
       "      <th>imdb_score</th>\n",
       "      <th>imdb_votes</th>\n",
       "      <th>tmdb_popularity</th>\n",
       "      <th>tmdb_score</th>\n",
       "    </tr>\n",
       "  </thead>\n",
       "  <tbody>\n",
       "    <tr>\n",
       "      <th>0</th>\n",
       "      <td>3748</td>\n",
       "      <td>tm84618</td>\n",
       "      <td>Robert De Niro</td>\n",
       "      <td>Travis Bickle</td>\n",
       "      <td>ACTOR</td>\n",
       "      <td>Taxi Driver</td>\n",
       "      <td>MOVIE</td>\n",
       "      <td>A mentally unstable Vietnam War veteran works ...</td>\n",
       "      <td>1976.0</td>\n",
       "      <td>R</td>\n",
       "      <td>113.0</td>\n",
       "      <td>['crime', 'drama']</td>\n",
       "      <td>['US']</td>\n",
       "      <td>NaN</td>\n",
       "      <td>tt0075314</td>\n",
       "      <td>8.3</td>\n",
       "      <td>795222.0</td>\n",
       "      <td>27.612</td>\n",
       "      <td>8.2</td>\n",
       "    </tr>\n",
       "    <tr>\n",
       "      <th>1</th>\n",
       "      <td>14658</td>\n",
       "      <td>tm84618</td>\n",
       "      <td>Jodie Foster</td>\n",
       "      <td>Iris Steensma</td>\n",
       "      <td>ACTOR</td>\n",
       "      <td>Taxi Driver</td>\n",
       "      <td>MOVIE</td>\n",
       "      <td>A mentally unstable Vietnam War veteran works ...</td>\n",
       "      <td>1976.0</td>\n",
       "      <td>R</td>\n",
       "      <td>113.0</td>\n",
       "      <td>['crime', 'drama']</td>\n",
       "      <td>['US']</td>\n",
       "      <td>NaN</td>\n",
       "      <td>tt0075314</td>\n",
       "      <td>8.3</td>\n",
       "      <td>795222.0</td>\n",
       "      <td>27.612</td>\n",
       "      <td>8.2</td>\n",
       "    </tr>\n",
       "  </tbody>\n",
       "</table>\n",
       "</div>"
      ],
      "text/plain": [
       "   person_id       id            name      character   role        title  \\\n",
       "0       3748  tm84618  Robert De Niro  Travis Bickle  ACTOR  Taxi Driver   \n",
       "1      14658  tm84618    Jodie Foster  Iris Steensma  ACTOR  Taxi Driver   \n",
       "\n",
       "    type                                        description  release_year  \\\n",
       "0  MOVIE  A mentally unstable Vietnam War veteran works ...        1976.0   \n",
       "1  MOVIE  A mentally unstable Vietnam War veteran works ...        1976.0   \n",
       "\n",
       "  age_certification  runtime              genres production_countries  \\\n",
       "0                 R    113.0  ['crime', 'drama']               ['US']   \n",
       "1                 R    113.0  ['crime', 'drama']               ['US']   \n",
       "\n",
       "   seasons    imdb_id  imdb_score  imdb_votes  tmdb_popularity  tmdb_score  \n",
       "0      NaN  tt0075314         8.3    795222.0           27.612         8.2  \n",
       "1      NaN  tt0075314         8.3    795222.0           27.612         8.2  "
      ]
     },
     "execution_count": 229,
     "metadata": {},
     "output_type": "execute_result"
    }
   ],
   "source": [
    "dff.head(2)"
   ]
  },
  {
   "cell_type": "code",
   "execution_count": 256,
   "id": "ee5d262d-1dac-4d15-b169-7eb0794a4e5b",
   "metadata": {},
   "outputs": [
    {
     "data": {
      "text/plain": [
       "74473"
      ]
     },
     "execution_count": 256,
     "metadata": {},
     "output_type": "execute_result"
    }
   ],
   "source": [
    "dff.shape[0]"
   ]
  },
  {
   "cell_type": "markdown",
   "id": "272d587a-39b0-4082-bad9-4a37aff3d547",
   "metadata": {
    "tags": []
   },
   "source": [
    "### Go through each row and turn actor into a dummy categorical variable"
   ]
  },
  {
   "cell_type": "code",
   "execution_count": 232,
   "id": "61df2c8c-d936-4ce6-ab34-37f53e2a459c",
   "metadata": {},
   "outputs": [],
   "source": [
    "# Drop fields which we'll never use to reduce data size\n",
    "dff = dff.drop(columns=[\"id\",\"name\",\"role\",\"character\",\"title\",\"type\",\"description\",\"seasons\",\"imdb_id\",\"imdb_votes\",\"tmdb_popularity\",\"tmdb_score\"])"
   ]
  },
  {
   "cell_type": "code",
   "execution_count": 233,
   "id": "b00d7e68-5918-4555-8fe5-eb53bf136487",
   "metadata": {},
   "outputs": [
    {
     "data": {
      "text/plain": [
       "77213"
      ]
     },
     "execution_count": 233,
     "metadata": {},
     "output_type": "execute_result"
    }
   ],
   "source": [
    "dff.shape[0]"
   ]
  },
  {
   "cell_type": "code",
   "execution_count": 234,
   "id": "8162e888-4de7-4692-b40a-7d1456f5b44d",
   "metadata": {},
   "outputs": [],
   "source": [
    "dff_dummies = pd.get_dummies(dff, columns=[\"person_id\"])"
   ]
  },
  {
   "cell_type": "code",
   "execution_count": 259,
   "id": "c7cee5f0-cf30-4168-99ad-d9a33ef14213",
   "metadata": {},
   "outputs": [
    {
     "data": {
      "text/plain": [
       "77213"
      ]
     },
     "execution_count": 259,
     "metadata": {},
     "output_type": "execute_result"
    }
   ],
   "source": [
    "dff_dummies.shape[0]"
   ]
  },
  {
   "cell_type": "code",
   "execution_count": 260,
   "id": "4d2f3d7d-a8a0-4338-adc9-aa2ec7414ed9",
   "metadata": {},
   "outputs": [],
   "source": [
    "dff_dummies.drop_duplicates(inplace=True)"
   ]
  },
  {
   "cell_type": "code",
   "execution_count": 261,
   "id": "e105ae7f-7ef4-47cc-8a6f-e34a780b8f1a",
   "metadata": {},
   "outputs": [
    {
     "data": {
      "text/plain": [
       "74473"
      ]
     },
     "execution_count": 261,
     "metadata": {},
     "output_type": "execute_result"
    }
   ],
   "source": [
    "dff_dummies.shape[0]"
   ]
  },
  {
   "cell_type": "code",
   "execution_count": 287,
   "id": "43199d1c-8e0e-4c86-bb6d-d89726862e22",
   "metadata": {},
   "outputs": [
    {
     "name": "stderr",
     "output_type": "stream",
     "text": [
      "/var/folders/xt/tnrs39hs5b13y14wv9zh4dcw0000gn/T/ipykernel_30208/3920670211.py:1: FutureWarning: The default value of regex will change from True to False in a future version. In addition, single character regular expressions will *not* be treated as literal strings when regex=True.\n",
      "  df_genres = dff_dummies[\"genres\"].str.replace(\"[\",\"\").str.replace(\"]\",\"\").str.replace(\"'\",\"\").str.split(\", \").str.join(\"|\").str.get_dummies()\n"
     ]
    }
   ],
   "source": [
    "df_genres = dff_dummies[\"genres\"].str.replace(\"[\",\"\").str.replace(\"]\",\"\").str.replace(\"'\",\"\").str.split(\", \").str.join(\"|\").str.get_dummies()"
   ]
  },
  {
   "cell_type": "code",
   "execution_count": 288,
   "id": "b8116564-dfde-4322-99d9-4940ac1e3968",
   "metadata": {},
   "outputs": [],
   "source": [
    "dff_dummies = pd.concat([dff_dummies, df_genres], axis=1, join=\"inner\")"
   ]
  },
  {
   "cell_type": "code",
   "execution_count": 294,
   "id": "f3a299c5-1ed2-4c2f-b7c8-e31f96dbd7d9",
   "metadata": {},
   "outputs": [],
   "source": [
    "dff_dummies.drop(columns=[\"genres\"], inplace=True)"
   ]
  },
  {
   "cell_type": "code",
   "execution_count": 295,
   "id": "4a02c464-fc38-4865-ad59-80f6ff24e906",
   "metadata": {},
   "outputs": [
    {
     "name": "stderr",
     "output_type": "stream",
     "text": [
      "/var/folders/xt/tnrs39hs5b13y14wv9zh4dcw0000gn/T/ipykernel_30208/581952147.py:1: FutureWarning: The default value of regex will change from True to False in a future version. In addition, single character regular expressions will *not* be treated as literal strings when regex=True.\n",
      "  df_countries = dff_dummies[\"production_countries\"].str.replace(\"[\",\"\").str.replace(\"]\",\"\").str.replace(\"'\",\"\").str.split(\", \").str.join(\"|\").str.get_dummies()\n"
     ]
    }
   ],
   "source": [
    "df_countries = dff_dummies[\"production_countries\"].str.replace(\"[\",\"\").str.replace(\"]\",\"\").str.replace(\"'\",\"\").str.split(\", \").str.join(\"|\").str.get_dummies()"
   ]
  },
  {
   "cell_type": "code",
   "execution_count": 296,
   "id": "8f8bdf13-9d45-45e3-a52f-6e39abbed5bb",
   "metadata": {},
   "outputs": [],
   "source": [
    "dff_dummies = pd.concat([dff_dummies, df_countries], axis=1, join=\"inner\")"
   ]
  },
  {
   "cell_type": "code",
   "execution_count": 297,
   "id": "b03e0ec4-2f19-4b2d-89f3-5ad9850c9092",
   "metadata": {},
   "outputs": [],
   "source": [
    "dff_dummies.drop(columns=[\"production_countries\"], inplace=True)"
   ]
  },
  {
   "cell_type": "code",
   "execution_count": 299,
   "id": "b2a6f071-1264-4f99-b7e9-d3960010eace",
   "metadata": {},
   "outputs": [
    {
     "data": {
      "text/html": [
       "<div>\n",
       "<style scoped>\n",
       "    .dataframe tbody tr th:only-of-type {\n",
       "        vertical-align: middle;\n",
       "    }\n",
       "\n",
       "    .dataframe tbody tr th {\n",
       "        vertical-align: top;\n",
       "    }\n",
       "\n",
       "    .dataframe thead th {\n",
       "        text-align: right;\n",
       "    }\n",
       "</style>\n",
       "<table border=\"1\" class=\"dataframe\">\n",
       "  <thead>\n",
       "    <tr style=\"text-align: right;\">\n",
       "      <th></th>\n",
       "      <th>role</th>\n",
       "      <th>release_year</th>\n",
       "      <th>age_certification</th>\n",
       "      <th>runtime</th>\n",
       "      <th>imdb_score</th>\n",
       "      <th>person_id_7</th>\n",
       "      <th>person_id_8</th>\n",
       "      <th>person_id_11</th>\n",
       "      <th>person_id_16</th>\n",
       "      <th>person_id_18</th>\n",
       "      <th>...</th>\n",
       "      <th>TZ</th>\n",
       "      <th>UA</th>\n",
       "      <th>US</th>\n",
       "      <th>UY</th>\n",
       "      <th>VA</th>\n",
       "      <th>VE</th>\n",
       "      <th>VN</th>\n",
       "      <th>XX</th>\n",
       "      <th>ZA</th>\n",
       "      <th>ZW</th>\n",
       "    </tr>\n",
       "  </thead>\n",
       "  <tbody>\n",
       "    <tr>\n",
       "      <th>0</th>\n",
       "      <td>ACTOR</td>\n",
       "      <td>1976.0</td>\n",
       "      <td>R</td>\n",
       "      <td>113.0</td>\n",
       "      <td>8.3</td>\n",
       "      <td>0</td>\n",
       "      <td>0</td>\n",
       "      <td>0</td>\n",
       "      <td>0</td>\n",
       "      <td>0</td>\n",
       "      <td>...</td>\n",
       "      <td>0</td>\n",
       "      <td>0</td>\n",
       "      <td>1</td>\n",
       "      <td>0</td>\n",
       "      <td>0</td>\n",
       "      <td>0</td>\n",
       "      <td>0</td>\n",
       "      <td>0</td>\n",
       "      <td>0</td>\n",
       "      <td>0</td>\n",
       "    </tr>\n",
       "    <tr>\n",
       "      <th>1</th>\n",
       "      <td>ACTOR</td>\n",
       "      <td>1976.0</td>\n",
       "      <td>R</td>\n",
       "      <td>113.0</td>\n",
       "      <td>8.3</td>\n",
       "      <td>0</td>\n",
       "      <td>0</td>\n",
       "      <td>0</td>\n",
       "      <td>0</td>\n",
       "      <td>0</td>\n",
       "      <td>...</td>\n",
       "      <td>0</td>\n",
       "      <td>0</td>\n",
       "      <td>1</td>\n",
       "      <td>0</td>\n",
       "      <td>0</td>\n",
       "      <td>0</td>\n",
       "      <td>0</td>\n",
       "      <td>0</td>\n",
       "      <td>0</td>\n",
       "      <td>0</td>\n",
       "    </tr>\n",
       "    <tr>\n",
       "      <th>2</th>\n",
       "      <td>ACTOR</td>\n",
       "      <td>1976.0</td>\n",
       "      <td>R</td>\n",
       "      <td>113.0</td>\n",
       "      <td>8.3</td>\n",
       "      <td>0</td>\n",
       "      <td>0</td>\n",
       "      <td>0</td>\n",
       "      <td>0</td>\n",
       "      <td>0</td>\n",
       "      <td>...</td>\n",
       "      <td>0</td>\n",
       "      <td>0</td>\n",
       "      <td>1</td>\n",
       "      <td>0</td>\n",
       "      <td>0</td>\n",
       "      <td>0</td>\n",
       "      <td>0</td>\n",
       "      <td>0</td>\n",
       "      <td>0</td>\n",
       "      <td>0</td>\n",
       "    </tr>\n",
       "    <tr>\n",
       "      <th>3</th>\n",
       "      <td>ACTOR</td>\n",
       "      <td>1976.0</td>\n",
       "      <td>R</td>\n",
       "      <td>113.0</td>\n",
       "      <td>8.3</td>\n",
       "      <td>0</td>\n",
       "      <td>0</td>\n",
       "      <td>0</td>\n",
       "      <td>0</td>\n",
       "      <td>0</td>\n",
       "      <td>...</td>\n",
       "      <td>0</td>\n",
       "      <td>0</td>\n",
       "      <td>1</td>\n",
       "      <td>0</td>\n",
       "      <td>0</td>\n",
       "      <td>0</td>\n",
       "      <td>0</td>\n",
       "      <td>0</td>\n",
       "      <td>0</td>\n",
       "      <td>0</td>\n",
       "    </tr>\n",
       "    <tr>\n",
       "      <th>4</th>\n",
       "      <td>ACTOR</td>\n",
       "      <td>1976.0</td>\n",
       "      <td>R</td>\n",
       "      <td>113.0</td>\n",
       "      <td>8.3</td>\n",
       "      <td>0</td>\n",
       "      <td>0</td>\n",
       "      <td>0</td>\n",
       "      <td>0</td>\n",
       "      <td>0</td>\n",
       "      <td>...</td>\n",
       "      <td>0</td>\n",
       "      <td>0</td>\n",
       "      <td>1</td>\n",
       "      <td>0</td>\n",
       "      <td>0</td>\n",
       "      <td>0</td>\n",
       "      <td>0</td>\n",
       "      <td>0</td>\n",
       "      <td>0</td>\n",
       "      <td>0</td>\n",
       "    </tr>\n",
       "  </tbody>\n",
       "</table>\n",
       "<p>5 rows × 54084 columns</p>\n",
       "</div>"
      ],
      "text/plain": [
       "    role  release_year age_certification  runtime  imdb_score  person_id_7  \\\n",
       "0  ACTOR        1976.0                 R    113.0         8.3            0   \n",
       "1  ACTOR        1976.0                 R    113.0         8.3            0   \n",
       "2  ACTOR        1976.0                 R    113.0         8.3            0   \n",
       "3  ACTOR        1976.0                 R    113.0         8.3            0   \n",
       "4  ACTOR        1976.0                 R    113.0         8.3            0   \n",
       "\n",
       "   person_id_8  person_id_11  person_id_16  person_id_18  ...  TZ  UA  US  UY  \\\n",
       "0            0             0             0             0  ...   0   0   1   0   \n",
       "1            0             0             0             0  ...   0   0   1   0   \n",
       "2            0             0             0             0  ...   0   0   1   0   \n",
       "3            0             0             0             0  ...   0   0   1   0   \n",
       "4            0             0             0             0  ...   0   0   1   0   \n",
       "\n",
       "   VA  VE  VN  XX  ZA  ZW  \n",
       "0   0   0   0   0   0   0  \n",
       "1   0   0   0   0   0   0  \n",
       "2   0   0   0   0   0   0  \n",
       "3   0   0   0   0   0   0  \n",
       "4   0   0   0   0   0   0  \n",
       "\n",
       "[5 rows x 54084 columns]"
      ]
     },
     "execution_count": 299,
     "metadata": {},
     "output_type": "execute_result"
    }
   ],
   "source": [
    "dff_dummies.head(5)"
   ]
  },
  {
   "cell_type": "code",
   "execution_count": 301,
   "id": "0a859748-3502-4e74-8bb9-2656704c727b",
   "metadata": {},
   "outputs": [],
   "source": [
    "dff_dummies = pd.get_dummies(dff_dummies, columns=[\"age_certification\"])"
   ]
  },
  {
   "cell_type": "code",
   "execution_count": 302,
   "id": "7826b8d1-bc0e-4e1b-b834-8a6f42a78016",
   "metadata": {},
   "outputs": [
    {
     "data": {
      "text/html": [
       "<div>\n",
       "<style scoped>\n",
       "    .dataframe tbody tr th:only-of-type {\n",
       "        vertical-align: middle;\n",
       "    }\n",
       "\n",
       "    .dataframe tbody tr th {\n",
       "        vertical-align: top;\n",
       "    }\n",
       "\n",
       "    .dataframe thead th {\n",
       "        text-align: right;\n",
       "    }\n",
       "</style>\n",
       "<table border=\"1\" class=\"dataframe\">\n",
       "  <thead>\n",
       "    <tr style=\"text-align: right;\">\n",
       "      <th></th>\n",
       "      <th>role</th>\n",
       "      <th>release_year</th>\n",
       "      <th>runtime</th>\n",
       "      <th>imdb_score</th>\n",
       "      <th>person_id_7</th>\n",
       "      <th>person_id_8</th>\n",
       "      <th>person_id_11</th>\n",
       "      <th>person_id_16</th>\n",
       "      <th>person_id_18</th>\n",
       "      <th>person_id_21</th>\n",
       "      <th>...</th>\n",
       "      <th>VE</th>\n",
       "      <th>VN</th>\n",
       "      <th>XX</th>\n",
       "      <th>ZA</th>\n",
       "      <th>ZW</th>\n",
       "      <th>age_certification_G</th>\n",
       "      <th>age_certification_NC-17</th>\n",
       "      <th>age_certification_PG</th>\n",
       "      <th>age_certification_PG-13</th>\n",
       "      <th>age_certification_R</th>\n",
       "    </tr>\n",
       "  </thead>\n",
       "  <tbody>\n",
       "    <tr>\n",
       "      <th>0</th>\n",
       "      <td>ACTOR</td>\n",
       "      <td>1976.0</td>\n",
       "      <td>113.0</td>\n",
       "      <td>8.3</td>\n",
       "      <td>0</td>\n",
       "      <td>0</td>\n",
       "      <td>0</td>\n",
       "      <td>0</td>\n",
       "      <td>0</td>\n",
       "      <td>0</td>\n",
       "      <td>...</td>\n",
       "      <td>0</td>\n",
       "      <td>0</td>\n",
       "      <td>0</td>\n",
       "      <td>0</td>\n",
       "      <td>0</td>\n",
       "      <td>0</td>\n",
       "      <td>0</td>\n",
       "      <td>0</td>\n",
       "      <td>0</td>\n",
       "      <td>1</td>\n",
       "    </tr>\n",
       "    <tr>\n",
       "      <th>1</th>\n",
       "      <td>ACTOR</td>\n",
       "      <td>1976.0</td>\n",
       "      <td>113.0</td>\n",
       "      <td>8.3</td>\n",
       "      <td>0</td>\n",
       "      <td>0</td>\n",
       "      <td>0</td>\n",
       "      <td>0</td>\n",
       "      <td>0</td>\n",
       "      <td>0</td>\n",
       "      <td>...</td>\n",
       "      <td>0</td>\n",
       "      <td>0</td>\n",
       "      <td>0</td>\n",
       "      <td>0</td>\n",
       "      <td>0</td>\n",
       "      <td>0</td>\n",
       "      <td>0</td>\n",
       "      <td>0</td>\n",
       "      <td>0</td>\n",
       "      <td>1</td>\n",
       "    </tr>\n",
       "    <tr>\n",
       "      <th>2</th>\n",
       "      <td>ACTOR</td>\n",
       "      <td>1976.0</td>\n",
       "      <td>113.0</td>\n",
       "      <td>8.3</td>\n",
       "      <td>0</td>\n",
       "      <td>0</td>\n",
       "      <td>0</td>\n",
       "      <td>0</td>\n",
       "      <td>0</td>\n",
       "      <td>0</td>\n",
       "      <td>...</td>\n",
       "      <td>0</td>\n",
       "      <td>0</td>\n",
       "      <td>0</td>\n",
       "      <td>0</td>\n",
       "      <td>0</td>\n",
       "      <td>0</td>\n",
       "      <td>0</td>\n",
       "      <td>0</td>\n",
       "      <td>0</td>\n",
       "      <td>1</td>\n",
       "    </tr>\n",
       "    <tr>\n",
       "      <th>3</th>\n",
       "      <td>ACTOR</td>\n",
       "      <td>1976.0</td>\n",
       "      <td>113.0</td>\n",
       "      <td>8.3</td>\n",
       "      <td>0</td>\n",
       "      <td>0</td>\n",
       "      <td>0</td>\n",
       "      <td>0</td>\n",
       "      <td>0</td>\n",
       "      <td>0</td>\n",
       "      <td>...</td>\n",
       "      <td>0</td>\n",
       "      <td>0</td>\n",
       "      <td>0</td>\n",
       "      <td>0</td>\n",
       "      <td>0</td>\n",
       "      <td>0</td>\n",
       "      <td>0</td>\n",
       "      <td>0</td>\n",
       "      <td>0</td>\n",
       "      <td>1</td>\n",
       "    </tr>\n",
       "    <tr>\n",
       "      <th>4</th>\n",
       "      <td>ACTOR</td>\n",
       "      <td>1976.0</td>\n",
       "      <td>113.0</td>\n",
       "      <td>8.3</td>\n",
       "      <td>0</td>\n",
       "      <td>0</td>\n",
       "      <td>0</td>\n",
       "      <td>0</td>\n",
       "      <td>0</td>\n",
       "      <td>0</td>\n",
       "      <td>...</td>\n",
       "      <td>0</td>\n",
       "      <td>0</td>\n",
       "      <td>0</td>\n",
       "      <td>0</td>\n",
       "      <td>0</td>\n",
       "      <td>0</td>\n",
       "      <td>0</td>\n",
       "      <td>0</td>\n",
       "      <td>0</td>\n",
       "      <td>1</td>\n",
       "    </tr>\n",
       "  </tbody>\n",
       "</table>\n",
       "<p>5 rows × 54088 columns</p>\n",
       "</div>"
      ],
      "text/plain": [
       "    role  release_year  runtime  imdb_score  person_id_7  person_id_8  \\\n",
       "0  ACTOR        1976.0    113.0         8.3            0            0   \n",
       "1  ACTOR        1976.0    113.0         8.3            0            0   \n",
       "2  ACTOR        1976.0    113.0         8.3            0            0   \n",
       "3  ACTOR        1976.0    113.0         8.3            0            0   \n",
       "4  ACTOR        1976.0    113.0         8.3            0            0   \n",
       "\n",
       "   person_id_11  person_id_16  person_id_18  person_id_21  ...  VE  VN  XX  \\\n",
       "0             0             0             0             0  ...   0   0   0   \n",
       "1             0             0             0             0  ...   0   0   0   \n",
       "2             0             0             0             0  ...   0   0   0   \n",
       "3             0             0             0             0  ...   0   0   0   \n",
       "4             0             0             0             0  ...   0   0   0   \n",
       "\n",
       "   ZA  ZW  age_certification_G  age_certification_NC-17  age_certification_PG  \\\n",
       "0   0   0                    0                        0                     0   \n",
       "1   0   0                    0                        0                     0   \n",
       "2   0   0                    0                        0                     0   \n",
       "3   0   0                    0                        0                     0   \n",
       "4   0   0                    0                        0                     0   \n",
       "\n",
       "   age_certification_PG-13  age_certification_R  \n",
       "0                        0                    1  \n",
       "1                        0                    1  \n",
       "2                        0                    1  \n",
       "3                        0                    1  \n",
       "4                        0                    1  \n",
       "\n",
       "[5 rows x 54088 columns]"
      ]
     },
     "execution_count": 302,
     "metadata": {},
     "output_type": "execute_result"
    }
   ],
   "source": [
    "dff_dummies.head()"
   ]
  },
  {
   "cell_type": "code",
   "execution_count": 304,
   "id": "e4b5e113-e068-4f54-9fcd-9a8e0b8d557c",
   "metadata": {},
   "outputs": [],
   "source": [
    "dff_final = dff_dummies.drop(columns=[\"role\"])"
   ]
  },
  {
   "cell_type": "code",
   "execution_count": 312,
   "id": "e22a70e4-178f-4650-89a7-76634d312699",
   "metadata": {},
   "outputs": [
    {
     "data": {
      "text/plain": [
       "74473"
      ]
     },
     "execution_count": 312,
     "metadata": {},
     "output_type": "execute_result"
    }
   ],
   "source": [
    "dff_final.shape[0]"
   ]
  },
  {
   "cell_type": "code",
   "execution_count": null,
   "id": "a9bea2e3-2232-4c81-9201-43be6f728bea",
   "metadata": {},
   "outputs": [],
   "source": []
  }
 ],
 "metadata": {
  "kernelspec": {
   "display_name": "Python 3 (ipykernel)",
   "language": "python",
   "name": "python3"
  },
  "language_info": {
   "codemirror_mode": {
    "name": "ipython",
    "version": 3
   },
   "file_extension": ".py",
   "mimetype": "text/x-python",
   "name": "python",
   "nbconvert_exporter": "python",
   "pygments_lexer": "ipython3",
   "version": "3.10.4"
  }
 },
 "nbformat": 4,
 "nbformat_minor": 5
}
